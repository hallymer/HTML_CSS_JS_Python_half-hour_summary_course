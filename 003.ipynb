{
 "cells": [
  {
   "cell_type": "code",
   "execution_count": 1,
   "metadata": {},
   "outputs": [
    {
     "name": "stdout",
     "output_type": "stream",
     "text": [
      "hello world 1\n",
      "hello world 2\n",
      "hello world 3\n",
      "hello world 4\n",
      "good job\n"
     ]
    }
   ],
   "source": [
    "#2부\n",
    "#반복문(while, for) 조건문(if, elif, else)\n",
    "a = 1\n",
    "while a < 5:\n",
    "    print('hello world', a)\n",
    "    if a > 9:\n",
    "        break\n",
    "    a += 1\n",
    "else:\n",
    "    print('good job')"
   ]
  },
  {
   "cell_type": "code",
   "execution_count": 2,
   "metadata": {},
   "outputs": [
    {
     "name": "stdout",
     "output_type": "stream",
     "text": [
      "10\n",
      "20\n",
      "30\n",
      "40\n",
      "\n",
      "40\n",
      "10\n",
      "20\n",
      "30\n",
      "\n",
      "one\n",
      "two\n",
      "\n",
      "0\n",
      "1\n",
      "2\n",
      "3\n",
      "4\n",
      "5\n",
      "6\n",
      "7\n",
      "8\n",
      "9\n"
     ]
    }
   ],
   "source": [
    "l = [10, 20, 30, 40]\n",
    "s = {10, 20, 30, 40, 10, 10, 10}\n",
    "d = {'one':1, 'two':2}\n",
    "for i in l:\n",
    "    print(i)\n",
    "print()\n",
    "for i in s:\n",
    "    print(i)\n",
    "print()\n",
    "for i in d:\n",
    "    print(i)\n",
    "print()\n",
    "for i in range(10):\n",
    "    print(i) "
   ]
  },
  {
   "cell_type": "code",
   "execution_count": null,
   "metadata": {},
   "outputs": [],
   "source": []
  }
 ],
 "metadata": {
  "kernelspec": {
   "display_name": "Python 3",
   "language": "python",
   "name": "python3"
  },
  "language_info": {
   "codemirror_mode": {
    "name": "ipython",
    "version": 3
   },
   "file_extension": ".py",
   "mimetype": "text/x-python",
   "name": "python",
   "nbconvert_exporter": "python",
   "pygments_lexer": "ipython3",
   "version": "3.7.3"
  }
 },
 "nbformat": 4,
 "nbformat_minor": 2
}
