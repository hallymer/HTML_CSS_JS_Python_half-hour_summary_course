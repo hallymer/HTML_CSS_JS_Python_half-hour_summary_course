{
 "cells": [
  {
   "cell_type": "code",
   "execution_count": 2,
   "metadata": {},
   "outputs": [],
   "source": [
    "a = 30\n",
    "if a == 10:\n",
    "    print('hello world')\n",
    "elif a < 20:\n",
    "    print('good job 1')\n",
    "elif a < 30:\n",
    "    print('good job 2')\n",
    "elif a < 40:\n",
    "    print('good job 3')\n",
    "elif a < 50:\n",
    "    print('good job 4')\n",
    "else:\n",
    "    print('else')"
   ]
  },
  {
   "cell_type": "code",
   "execution_count": null,
   "metadata": {},
   "outputs": [],
   "source": []
  }
 ],
 "metadata": {
  "kernelspec": {
   "display_name": "Python 3",
   "language": "python",
   "name": "python3"
  },
  "language_info": {
   "codemirror_mode": {
    "name": "ipython",
    "version": 3
   },
   "file_extension": ".py",
   "mimetype": "text/x-python",
   "name": "python",
   "nbconvert_exporter": "python",
   "pygments_lexer": "ipython3",
   "version": "3.7.3"
  }
 },
 "nbformat": 4,
 "nbformat_minor": 2
}
