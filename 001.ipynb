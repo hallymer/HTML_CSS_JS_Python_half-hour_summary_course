{
 "cells": [
  {
   "cell_type": "code",
   "execution_count": 1,
   "metadata": {},
   "outputs": [
    {
     "name": "stdout",
     "output_type": "stream",
     "text": [
      "13\n"
     ]
    }
   ],
   "source": [
    "x = 3\n",
    "y = 10\n",
    "print(x + y)"
   ]
  },
  {
   "cell_type": "code",
   "execution_count": null,
   "metadata": {},
   "outputs": [],
   "source": [
    "# 주석 : 코드 설명 또는 보류할 때 사용\n",
    "\n",
    "#hello wordl\n",
    "'''\n",
    "hello world\n",
    "'''"
   ]
  },
  {
   "cell_type": "code",
   "execution_count": 4,
   "metadata": {},
   "outputs": [
    {
     "name": "stdout",
     "output_type": "stream",
     "text": [
      "leehojun\n",
      "<class 'int'>\n"
     ]
    }
   ],
   "source": [
    "a = 10            #int(정수)\n",
    "b = 10.1          #float(실수)\n",
    "c = 'hello world' #str(문자열)\n",
    "d = -1\n",
    "e = 'lee'\n",
    "f = 'hojun'\n",
    "g = 10 + 2j\n",
    "h = 0b1001   #int(2진수)\n",
    "i = 0o1001   #int(8진수)\n",
    "j = 0x1001   #int(16진수)\n",
    "print(e + f)\n",
    "print(type(a))\n",
    "#print(dir(a))"
   ]
  },
  {
   "cell_type": "code",
   "execution_count": 1,
   "metadata": {},
   "outputs": [
    {
     "name": "stdout",
     "output_type": "stream",
     "text": [
      "<class 'str'>\n",
      "p\n",
      "paullab\n",
      "pulbCOLe\n",
      "OEC ballua\n",
      "pulbC\n",
      "pulbCOLeou\n",
      "nuJoHeeL OEC balluap\n",
      "n\n"
     ]
    }
   ],
   "source": [
    "s = 'paullab CEO LeeHoJun'\n",
    "print(type(s))\n",
    "#print(dir(s))\n",
    "print(s[0])\n",
    "print(s[0:7])\n",
    "print(s[0:15:2])\n",
    "print(s[10:0:-1])\n",
    "print(s[:10:2]) #처음부터\n",
    "print(s[::2]) #처음부터 마지막\n",
    "print(s[::-1]) #처음부터 마지막까지 역순\n",
    "print(s[-1]) #마지막 값을 알고싶으면 index에 -1을 사용한다."
   ]
  },
  {
   "cell_type": "code",
   "execution_count": 2,
   "metadata": {},
   "outputs": [
    {
     "name": "stdout",
     "output_type": "stream",
     "text": [
      "<class 'str'>\n",
      "['__add__', '__class__', '__contains__', '__delattr__', '__dir__', '__doc__', '__eq__', '__format__', '__ge__', '__getattribute__', '__getitem__', '__getnewargs__', '__gt__', '__hash__', '__init__', '__init_subclass__', '__iter__', '__le__', '__len__', '__lt__', '__mod__', '__mul__', '__ne__', '__new__', '__reduce__', '__reduce_ex__', '__repr__', '__rmod__', '__rmul__', '__setattr__', '__sizeof__', '__str__', '__subclasshook__', 'capitalize', 'casefold', 'center', 'count', 'encode', 'endswith', 'expandtabs', 'find', 'format', 'format_map', 'index', 'isalnum', 'isalpha', 'isascii', 'isdecimal', 'isdigit', 'isidentifier', 'islower', 'isnumeric', 'isprintable', 'isspace', 'istitle', 'isupper', 'join', 'ljust', 'lower', 'lstrip', 'maketrans', 'partition', 'replace', 'rfind', 'rindex', 'rjust', 'rpartition', 'rsplit', 'rstrip', 'split', 'splitlines', 'startswith', 'strip', 'swapcase', 'title', 'translate', 'upper', 'zfill']\n",
      "PAULLAB CEO LEEHOJUN\n",
      "paullab ceo leehojun\n",
      "2\n",
      "     hello world     \n",
      "hello world\n",
      "     hello world\n",
      "hello world     \n",
      "['paullab', 'CEO', 'LeeHoJun']\n",
      "['paullab', 'CEO', 'LeeHoJun']\n",
      "paullab!CEO!LeeHoJun\n",
      "제 이름은 이호준입니다. 제 나이는 33입니다.\n"
     ]
    }
   ],
   "source": [
    "s = 'paullab CEO LeeHoJun'\n",
    "print(type(s))\n",
    "print(dir(s))\n",
    "print(s.upper())      #소문자 -> 대문자\n",
    "print(s.lower())      #대문자 -> 소문자\n",
    "print(s.count('l'))   #문자 개수 세기\n",
    "\n",
    "ss ='     hello world     '\n",
    "print(ss) #공백이 있음\n",
    "print(ss.strip())     #좌우 공백 삭제\n",
    "print(ss.rstrip())    #우 공백 삭제\n",
    "print(ss.lstrip())    #좌 공백 삭제\n",
    "\n",
    "print(s.split(' '))   #문자열 나누기\n",
    "a = s.split(' ')\n",
    "print(a)\n",
    "print('!'.join(a))    #문자열 삽입\n",
    "print('제 이름은 {}입니다. 제 나이는 {}입니다.'.format('이호준',33)) #format은 용법이 많다 따로 공부!"
   ]
  },
  {
   "cell_type": "code",
   "execution_count": null,
   "metadata": {},
   "outputs": [],
   "source": [
    "a = 2019\n",
    "b = 9\n",
    "c = 24\n",
    "# 2019/9/24\n",
    "print(a, b, c, sep='/', end=' ')\n",
    "print(a, b, c)"
   ]
  },
  {
   "cell_type": "code",
   "execution_count": null,
   "metadata": {},
   "outputs": [],
   "source": [
    "a = 10\n",
    "b = '10'\n",
    "print(a + int(b)) #형변환\n",
    "print(str(a) + b)"
   ]
  },
  {
   "cell_type": "code",
   "execution_count": null,
   "metadata": {},
   "outputs": [],
   "source": [
    "a = True\n",
    "b = False\n",
    "print(type(a))\n",
    "# print(dir(a))"
   ]
  },
  {
   "cell_type": "code",
   "execution_count": 3,
   "metadata": {},
   "outputs": [
    {
     "name": "stdout",
     "output_type": "stream",
     "text": [
      "True\n",
      "False\n",
      "False\n",
      "True\n",
      "True\n",
      "False\n"
     ]
    }
   ],
   "source": [
    "print(bool(' '))\n",
    "print(bool(''))\n",
    "print(bool(0))\n",
    "print(bool(1))\n",
    "print(bool(-1))\n",
    "print(bool(None))"
   ]
  },
  {
   "cell_type": "code",
   "execution_count": 4,
   "metadata": {},
   "outputs": [
    {
     "name": "stdout",
     "output_type": "stream",
     "text": [
      "13\n",
      "-7\n",
      "3.3333333333333335\n",
      "3\n",
      "30\n",
      "1000\n",
      "1\n"
     ]
    }
   ],
   "source": [
    "#산술연산\n",
    "\n",
    "a = 3\n",
    "b = 10\n",
    "print(a + b)\n",
    "print(a - b)\n",
    "print(b / a) #float\n",
    "print(b // a) #int\n",
    "print(b * a)\n",
    "print(b ** a) #10^3\n",
    "print(b % a) #나머지 연산"
   ]
  },
  {
   "cell_type": "code",
   "execution_count": null,
   "metadata": {},
   "outputs": [],
   "source": [
    "#비교연산\n",
    "\n",
    "a = 10\n",
    "b = 3\n",
    "print(a >= b)\n",
    "print(a > b)\n",
    "print(a < b)\n",
    "print(a <= b)\n",
    "print(a == b)\n",
    "print(a != b)"
   ]
  },
  {
   "cell_type": "code",
   "execution_count": null,
   "metadata": {},
   "outputs": [],
   "source": [
    "#논리연산\n",
    "\n",
    "a = True         # 1\n",
    "b = False        # 0\n",
    "print(a and b)   # *\n",
    "print(a or b)    # +\n",
    "print(not b)     # 반대"
   ]
  },
  {
   "cell_type": "code",
   "execution_count": 5,
   "metadata": {},
   "outputs": [
    {
     "name": "stdout",
     "output_type": "stream",
     "text": [
      "30\n"
     ]
    }
   ],
   "source": [
    "#할당연산\n",
    "\n",
    "a = 10\n",
    "a = a + 10\n",
    "a += 10\n",
    "print(a)"
   ]
  },
  {
   "cell_type": "code",
   "execution_count": null,
   "metadata": {},
   "outputs": [],
   "source": [
    "#bit연산\n",
    "a = 40\n",
    "b = 14\n",
    "print(a & b)\n",
    "# &, |, ~\n",
    "print(bin(a)[2:].zfill(6))\n",
    "print(bin(b)[2:].zfill(6))\n",
    "# 101000\n",
    "# 001110\n",
    "# -------- and 연산\n",
    "# 001000"
   ]
  },
  {
   "cell_type": "code",
   "execution_count": null,
   "metadata": {},
   "outputs": [],
   "source": [
    "def f(x, y):\n",
    "    z = x + y\n",
    "    return z\n",
    "print(f(3, 5))"
   ]
  },
  {
   "cell_type": "code",
   "execution_count": null,
   "metadata": {},
   "outputs": [],
   "source": [
    "def ff():\n",
    "    print('1')\n",
    "    print('2')\n",
    "    return None\n",
    "print('3')\n",
    "print(4)\n",
    "print(ff())"
   ]
  },
  {
   "cell_type": "code",
   "execution_count": null,
   "metadata": {},
   "outputs": [],
   "source": [
    "def circle(r):\n",
    "    width = r*r*3.14\n",
    "    return width\n",
    "print(circle(10))"
   ]
  },
  {
   "cell_type": "code",
   "execution_count": null,
   "metadata": {},
   "outputs": [],
   "source": [
    "a = 10\n",
    "def aplus(aa):\n",
    "    # global a --> 사용할때는 주의해서 사용해야하는 명령어 \n",
    "    # 왜? 밖에있는 변수에 영향을 받기때문에\n",
    "    aa += 10\n",
    "    return aa\n",
    "print(aplus(a))\n",
    "\n",
    "def aplus():\n",
    "    global a\n",
    "    # global a --> 사용할때는 주의해서 사용해야하는 명령어 \n",
    "    # 왜? 밖에있는 변수에 영향을 받기때문에\n",
    "    a += 10\n",
    "    return a\n",
    "print(aplus())"
   ]
  }
 ],
 "metadata": {
  "kernelspec": {
   "display_name": "Python 3",
   "language": "python",
   "name": "python3"
  },
  "language_info": {
   "codemirror_mode": {
    "name": "ipython",
    "version": 3
   },
   "file_extension": ".py",
   "mimetype": "text/x-python",
   "name": "python",
   "nbconvert_exporter": "python",
   "pygments_lexer": "ipython3",
   "version": "3.7.3"
  }
 },
 "nbformat": 4,
 "nbformat_minor": 2
}
