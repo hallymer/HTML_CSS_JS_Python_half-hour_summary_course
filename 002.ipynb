{
 "cells": [
  {
   "cell_type": "code",
   "execution_count": 7,
   "metadata": {},
   "outputs": [
    {
     "name": "stdout",
     "output_type": "stream",
     "text": [
      "[100, 200, 300, 400]\n",
      "<class 'list'>\n",
      "200\n",
      "[100, 1000, 300, 400]\n"
     ]
    }
   ],
   "source": [
    "#리스트, 튜플, 딕셔너리, 셋\n",
    "l = [100, 200, 300, 400]\n",
    "print(l)\n",
    "print(type(l))\n",
    "#print(dir(l))\n",
    "# 변경이 가능한 자료형\n",
    "# 순서가 있는 자료형\n",
    "print(l[1])\n",
    "l[1] = 1000\n",
    "print(l)"
   ]
  },
  {
   "cell_type": "code",
   "execution_count": 16,
   "metadata": {},
   "outputs": [
    {
     "name": "stdout",
     "output_type": "stream",
     "text": [
      "['__add__', '__class__', '__contains__', '__delattr__', '__delitem__', '__dir__', '__doc__', '__eq__', '__format__', '__ge__', '__getattribute__', '__getitem__', '__gt__', '__hash__', '__iadd__', '__imul__', '__init__', '__init_subclass__', '__iter__', '__le__', '__len__', '__lt__', '__mul__', '__ne__', '__new__', '__reduce__', '__reduce_ex__', '__repr__', '__reversed__', '__rmul__', '__setattr__', '__setitem__', '__sizeof__', '__str__', '__subclasshook__', 'append', 'clear', 'copy', 'count', 'extend', 'index', 'insert', 'pop', 'remove', 'reverse', 'sort']\n",
      "[100, 200, 300, 400, 300]\n",
      "2\n",
      "[100, 200, 300, 400, 300]\n",
      "[100, 200, 300, 400, 300, 100, 200, 300]\n",
      "[100, 200, 300, 1000, 400, 300, 100, 200, 300]\n",
      "[100, 200, 300, 1000, 400, 300, 100, 200]\n",
      "[200, 300, 1000, 400, 300, 100, 200]\n",
      "[200, 100, 300, 400, 1000, 300, 200]\n",
      "[100, 200, 200, 300, 300, 400, 1000]\n"
     ]
    }
   ],
   "source": [
    "l = [100, 200, 300, 400]\n",
    "print(dir(l))\n",
    "l.append(300)\n",
    "print(l)\n",
    "# l.clear()\n",
    "# l.copy()\n",
    "print(l.count(300))\n",
    "print(l)\n",
    "l.extend([100, 200, 300])\n",
    "print(l)\n",
    "l.index(400)\n",
    "l.insert(3, 1000)\n",
    "print(l)\n",
    "l.pop()\n",
    "print(l)\n",
    "l.remove(100)\n",
    "print(l)\n",
    "l.reverse()\n",
    "print(l)\n",
    "l.sort()\n",
    "print(l)\n",
    "# sorted()\n",
    "# reversed()"
   ]
  },
  {
   "cell_type": "code",
   "execution_count": null,
   "metadata": {},
   "outputs": [],
   "source": [
    "t = (100, 200, 300)\n",
    "print(t)\n",
    "print(type(t))\n",
    "print(dir(t))\n",
    "\n",
    "# 순서가 있고\n",
    "# 변경이 불가능한 자료형\n",
    "\n",
    "# t[0] = 1000 error\n",
    "\n"
   ]
  }
 ],
 "metadata": {
  "kernelspec": {
   "display_name": "Python 3",
   "language": "python",
   "name": "python3"
  },
  "language_info": {
   "codemirror_mode": {
    "name": "ipython",
    "version": 3
   },
   "file_extension": ".py",
   "mimetype": "text/x-python",
   "name": "python",
   "nbconvert_exporter": "python",
   "pygments_lexer": "ipython3",
   "version": "3.7.3"
  }
 },
 "nbformat": 4,
 "nbformat_minor": 2
}
