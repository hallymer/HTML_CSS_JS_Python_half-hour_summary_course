{
 "cells": [
  {
   "cell_type": "code",
   "execution_count": 1,
   "metadata": {},
   "outputs": [
    {
     "name": "stdout",
     "output_type": "stream",
     "text": [
      "13\n"
     ]
    }
   ],
   "source": [
    "x = 3\n",
    "y = 10\n",
    "print(x + y)"
   ]
  },
  {
   "cell_type": "code",
   "execution_count": null,
   "metadata": {},
   "outputs": [],
   "source": [
    "# 주석 : 코드 설명 또는 보류할 때 사용\n",
    "\n",
    "#hello wordl\n",
    "'''\n",
    "hello world\n",
    "'''"
   ]
  },
  {
   "cell_type": "code",
   "execution_count": 4,
   "metadata": {},
   "outputs": [
    {
     "name": "stdout",
     "output_type": "stream",
     "text": [
      "leehojun\n",
      "<class 'int'>\n"
     ]
    }
   ],
   "source": [
    "a = 10            #int(정수)\n",
    "b = 10.1          #float(실수)\n",
    "c = 'hello world' #str(문자열)\n",
    "d = -1\n",
    "e = 'lee'\n",
    "f = 'hojun'\n",
    "g = 10 + 2j\n",
    "h = 0b1001   #int(2진수)\n",
    "i = 0o1001   #int(8진수)\n",
    "j = 0x1001   #int(16진수)\n",
    "print(e + f)\n",
    "print(type(a))\n",
    "#print(dir(a))"
   ]
  },
  {
   "cell_type": "code",
   "execution_count": 5,
   "metadata": {},
   "outputs": [
    {
     "name": "stdout",
     "output_type": "stream",
     "text": [
      "<class 'str'>\n",
      "p\n"
     ]
    }
   ],
   "source": [
    "s = 'paullab CEO LeeHoJun'\n",
    "print(type(s))\n",
    "#print(dir(s))\n",
    "print(s[0])"
   ]
  }
 ],
 "metadata": {
  "kernelspec": {
   "display_name": "Python 3",
   "language": "python",
   "name": "python3"
  },
  "language_info": {
   "codemirror_mode": {
    "name": "ipython",
    "version": 3
   },
   "file_extension": ".py",
   "mimetype": "text/x-python",
   "name": "python",
   "nbconvert_exporter": "python",
   "pygments_lexer": "ipython3",
   "version": "3.7.3"
  }
 },
 "nbformat": 4,
 "nbformat_minor": 2
}
